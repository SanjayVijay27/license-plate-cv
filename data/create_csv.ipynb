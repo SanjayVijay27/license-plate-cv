{
 "cells": [
  {
   "cell_type": "code",
   "execution_count": 1,
   "metadata": {},
   "outputs": [],
   "source": [
    "import pandas as pd\n",
    "import os\n",
    "from bs4 import BeautifulSoup"
   ]
  },
  {
   "cell_type": "code",
   "execution_count": 2,
   "metadata": {},
   "outputs": [],
   "source": [
    "dir_list = os.listdir(\"annotations\")"
   ]
  },
  {
   "cell_type": "code",
   "execution_count": 4,
   "metadata": {},
   "outputs": [],
   "source": [
    "data = []\n",
    "for file in dir_list:\n",
    "    with open(f\"annotations/{file}\", \"r\") as f:\n",
    "        xmlstring = f.read()\n",
    "        bs_data = BeautifulSoup(xmlstring)\n",
    "        xmin = bs_data.find('xmin').get_text()\n",
    "        ymin = bs_data.find('ymin').get_text()\n",
    "        xmax = bs_data.find('xmax').get_text()\n",
    "        ymax = bs_data.find('ymax').get_text()\n",
    "        file_name = file[:-3] + \"png\"\n",
    "        data.append((file_name, xmin, ymin, xmax, ymax))"
   ]
  },
  {
   "cell_type": "code",
   "execution_count": 5,
   "metadata": {},
   "outputs": [],
   "source": [
    "df = pd.DataFrame(data, columns=[\"file_name\", \"xmin\", \"ymin\", \"xmax\", \"ymax\"])"
   ]
  },
  {
   "cell_type": "code",
   "execution_count": 6,
   "metadata": {},
   "outputs": [],
   "source": [
    "df.to_csv(\"license_plate.csv\", index=False)"
   ]
  }
 ],
 "metadata": {
  "kernelspec": {
   "display_name": ".venv",
   "language": "python",
   "name": "python3"
  },
  "language_info": {
   "codemirror_mode": {
    "name": "ipython",
    "version": 3
   },
   "file_extension": ".py",
   "mimetype": "text/x-python",
   "name": "python",
   "nbconvert_exporter": "python",
   "pygments_lexer": "ipython3",
   "version": "3.10.11"
  },
  "orig_nbformat": 4
 },
 "nbformat": 4,
 "nbformat_minor": 2
}
